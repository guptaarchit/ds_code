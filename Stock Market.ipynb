{
 "cells": [
  {
   "cell_type": "markdown",
   "metadata": {},
   "source": [
    "#Data Project - Stock Market Analysis "
   ]
  },
  {
   "cell_type": "markdown",
   "metadata": {},
   "source": [
    "Welcome to your second data project! In this portfolio project we will be looking at data from the stock market, particularly some technology stocks. We will learn how to use pandas to get stock information, visualize different aspects of it, and finally we will look at a few ways of analyzing the risk of a stock, based on its previous performance history. We will also be predicting future stock prices through a Monte Carlo method!\n",
    "\n",
    "We'll be answering the following questions along the way:\n",
    "\n",
    "    1.) What was the change in price of the stock over time?\n",
    "    2.) What was the daily return of the stock on average?\n",
    "    3.) What was the moving average of the various stocks?\n",
    "    4.) What was the correlation between different stocks' closing prices?\n",
    "    4.) What was the correlation between different stocks' daily returns?\n",
    "    5.) How much value do we put at risk by investing in a particular stock?\n",
    "    6.) How can we attempt to predict future stock behavior?"
   ]
  },
  {
   "cell_type": "markdown",
   "metadata": {},
   "source": [
    "####Basic Analysis of Stock Information\n",
    "\n",
    "In this section we'll go over how to handle requesting stock information with pandas, and how to analyze basic attributes of a stock."
   ]
  },
  {
   "cell_type": "code",
   "execution_count": 5,
   "metadata": {},
   "outputs": [],
   "source": [
    "#Let's go ahead and start with some imports\n",
    "import pandas as pd\n",
    "from pandas import Series,DataFrame\n",
    "import numpy as np\n",
    "\n",
    "# For Visualization\n",
    "import matplotlib.pyplot as plt\n",
    "import seaborn as sns\n",
    "sns.set_style('whitegrid')\n",
    "%matplotlib inline\n",
    "\n",
    "# For reading stock data from yahoo\n",
    "from pandas_datareader.data import DataReader  # <- use this.\n",
    "\n",
    "# from pandas.io.data import DataReader\n",
    "\n",
    "# For time stamps\n",
    "from datetime import datetime\n",
    "\n",
    "# For division\n",
    "from __future__ import division"
   ]
  },
  {
   "cell_type": "markdown",
   "metadata": {},
   "source": [
    "Let's use Yahoo and pandas to grab some data for some tech stocks."
   ]
  },
  {
   "cell_type": "code",
   "execution_count": 7,
   "metadata": {},
   "outputs": [],
   "source": [
    "# The tech stocks we'll use for this analysis\n",
    "tech_list = ['AAPL','GOOG','MSFT','AMZN']\n",
    "\n",
    "# Set up End and Start times for data grab\n",
    "end = datetime.now()\n",
    "start = datetime(end.year - 1,end.month,end.day)\n",
    "\n",
    "\n",
    "#For loop for grabing yahoo finance data and setting as a dataframe\n",
    "\n",
    "for stock in tech_list:   \n",
    "    # Set DataFrame as the Stock Ticker\n",
    "    globals()[stock] = DataReader(stock,'yahoo',start,end)\n",
    "    "
   ]
  },
  {
   "cell_type": "markdown",
   "metadata": {},
   "source": [
    "Quick note: Using globals() is a sloppy way of setting the DataFrame names, but its simple"
   ]
  },
  {
   "cell_type": "markdown",
   "metadata": {},
   "source": [
    "Let's go ahead and play aorund with the AAPL DataFrame to get a feel for the data"
   ]
  },
  {
   "cell_type": "code",
   "execution_count": 12,
   "metadata": {},
   "outputs": [
    {
     "data": {
      "text/html": [
       "<div>\n",
       "<style scoped>\n",
       "    .dataframe tbody tr th:only-of-type {\n",
       "        vertical-align: middle;\n",
       "    }\n",
       "\n",
       "    .dataframe tbody tr th {\n",
       "        vertical-align: top;\n",
       "    }\n",
       "\n",
       "    .dataframe thead th {\n",
       "        text-align: right;\n",
       "    }\n",
       "</style>\n",
       "<table border=\"1\" class=\"dataframe\">\n",
       "  <thead>\n",
       "    <tr style=\"text-align: right;\">\n",
       "      <th></th>\n",
       "      <th>High</th>\n",
       "      <th>Low</th>\n",
       "      <th>Open</th>\n",
       "      <th>Close</th>\n",
       "      <th>Volume</th>\n",
       "      <th>Adj Close</th>\n",
       "    </tr>\n",
       "    <tr>\n",
       "      <th>Date</th>\n",
       "      <th></th>\n",
       "      <th></th>\n",
       "      <th></th>\n",
       "      <th></th>\n",
       "      <th></th>\n",
       "      <th></th>\n",
       "    </tr>\n",
       "  </thead>\n",
       "  <tbody>\n",
       "    <tr>\n",
       "      <th>2017-11-24</th>\n",
       "      <td>175.500000</td>\n",
       "      <td>174.649994</td>\n",
       "      <td>175.100006</td>\n",
       "      <td>174.970001</td>\n",
       "      <td>14026700.0</td>\n",
       "      <td>172.382004</td>\n",
       "    </tr>\n",
       "    <tr>\n",
       "      <th>2017-11-27</th>\n",
       "      <td>175.080002</td>\n",
       "      <td>173.339996</td>\n",
       "      <td>175.050003</td>\n",
       "      <td>174.089996</td>\n",
       "      <td>20716800.0</td>\n",
       "      <td>171.514999</td>\n",
       "    </tr>\n",
       "    <tr>\n",
       "      <th>2017-11-28</th>\n",
       "      <td>174.869995</td>\n",
       "      <td>171.860001</td>\n",
       "      <td>174.300003</td>\n",
       "      <td>173.070007</td>\n",
       "      <td>26428800.0</td>\n",
       "      <td>170.510101</td>\n",
       "    </tr>\n",
       "    <tr>\n",
       "      <th>2017-11-29</th>\n",
       "      <td>172.919998</td>\n",
       "      <td>167.160004</td>\n",
       "      <td>172.630005</td>\n",
       "      <td>169.479996</td>\n",
       "      <td>41666400.0</td>\n",
       "      <td>166.973206</td>\n",
       "    </tr>\n",
       "    <tr>\n",
       "      <th>2017-11-30</th>\n",
       "      <td>172.139999</td>\n",
       "      <td>168.440002</td>\n",
       "      <td>170.429993</td>\n",
       "      <td>171.850006</td>\n",
       "      <td>41527200.0</td>\n",
       "      <td>169.308151</td>\n",
       "    </tr>\n",
       "    <tr>\n",
       "      <th>2017-12-01</th>\n",
       "      <td>171.669998</td>\n",
       "      <td>168.500000</td>\n",
       "      <td>169.949997</td>\n",
       "      <td>171.050003</td>\n",
       "      <td>39759300.0</td>\n",
       "      <td>168.519974</td>\n",
       "    </tr>\n",
       "    <tr>\n",
       "      <th>2017-12-04</th>\n",
       "      <td>172.619995</td>\n",
       "      <td>169.630005</td>\n",
       "      <td>172.479996</td>\n",
       "      <td>169.800003</td>\n",
       "      <td>32542400.0</td>\n",
       "      <td>167.288483</td>\n",
       "    </tr>\n",
       "    <tr>\n",
       "      <th>2017-12-05</th>\n",
       "      <td>171.520004</td>\n",
       "      <td>168.399994</td>\n",
       "      <td>169.059998</td>\n",
       "      <td>169.639999</td>\n",
       "      <td>27350200.0</td>\n",
       "      <td>167.130829</td>\n",
       "    </tr>\n",
       "    <tr>\n",
       "      <th>2017-12-06</th>\n",
       "      <td>170.199997</td>\n",
       "      <td>166.460007</td>\n",
       "      <td>167.500000</td>\n",
       "      <td>169.009995</td>\n",
       "      <td>28560000.0</td>\n",
       "      <td>166.510162</td>\n",
       "    </tr>\n",
       "    <tr>\n",
       "      <th>2017-12-07</th>\n",
       "      <td>170.440002</td>\n",
       "      <td>168.910004</td>\n",
       "      <td>169.029999</td>\n",
       "      <td>169.320007</td>\n",
       "      <td>25673300.0</td>\n",
       "      <td>166.815567</td>\n",
       "    </tr>\n",
       "    <tr>\n",
       "      <th>2017-12-08</th>\n",
       "      <td>171.000000</td>\n",
       "      <td>168.820007</td>\n",
       "      <td>170.490005</td>\n",
       "      <td>169.369995</td>\n",
       "      <td>23355200.0</td>\n",
       "      <td>166.864822</td>\n",
       "    </tr>\n",
       "    <tr>\n",
       "      <th>2017-12-11</th>\n",
       "      <td>172.889999</td>\n",
       "      <td>168.789993</td>\n",
       "      <td>169.199997</td>\n",
       "      <td>172.669998</td>\n",
       "      <td>35273800.0</td>\n",
       "      <td>170.116028</td>\n",
       "    </tr>\n",
       "    <tr>\n",
       "      <th>2017-12-12</th>\n",
       "      <td>172.389999</td>\n",
       "      <td>171.460007</td>\n",
       "      <td>172.149994</td>\n",
       "      <td>171.699997</td>\n",
       "      <td>19409200.0</td>\n",
       "      <td>169.160370</td>\n",
       "    </tr>\n",
       "    <tr>\n",
       "      <th>2017-12-13</th>\n",
       "      <td>173.539993</td>\n",
       "      <td>172.000000</td>\n",
       "      <td>172.500000</td>\n",
       "      <td>172.270004</td>\n",
       "      <td>23818400.0</td>\n",
       "      <td>169.721939</td>\n",
       "    </tr>\n",
       "    <tr>\n",
       "      <th>2017-12-14</th>\n",
       "      <td>173.130005</td>\n",
       "      <td>171.649994</td>\n",
       "      <td>172.399994</td>\n",
       "      <td>172.220001</td>\n",
       "      <td>20476500.0</td>\n",
       "      <td>169.672668</td>\n",
       "    </tr>\n",
       "    <tr>\n",
       "      <th>2017-12-15</th>\n",
       "      <td>174.169998</td>\n",
       "      <td>172.460007</td>\n",
       "      <td>173.630005</td>\n",
       "      <td>173.970001</td>\n",
       "      <td>40169300.0</td>\n",
       "      <td>171.396790</td>\n",
       "    </tr>\n",
       "    <tr>\n",
       "      <th>2017-12-18</th>\n",
       "      <td>177.199997</td>\n",
       "      <td>174.860001</td>\n",
       "      <td>174.880005</td>\n",
       "      <td>176.419998</td>\n",
       "      <td>29421100.0</td>\n",
       "      <td>173.810547</td>\n",
       "    </tr>\n",
       "    <tr>\n",
       "      <th>2017-12-19</th>\n",
       "      <td>175.389999</td>\n",
       "      <td>174.089996</td>\n",
       "      <td>175.029999</td>\n",
       "      <td>174.539993</td>\n",
       "      <td>27436400.0</td>\n",
       "      <td>171.958359</td>\n",
       "    </tr>\n",
       "    <tr>\n",
       "      <th>2017-12-20</th>\n",
       "      <td>175.419998</td>\n",
       "      <td>173.250000</td>\n",
       "      <td>174.869995</td>\n",
       "      <td>174.350006</td>\n",
       "      <td>23475600.0</td>\n",
       "      <td>171.771179</td>\n",
       "    </tr>\n",
       "    <tr>\n",
       "      <th>2017-12-21</th>\n",
       "      <td>176.020004</td>\n",
       "      <td>174.100006</td>\n",
       "      <td>174.169998</td>\n",
       "      <td>175.009995</td>\n",
       "      <td>20949900.0</td>\n",
       "      <td>172.421402</td>\n",
       "    </tr>\n",
       "    <tr>\n",
       "      <th>2017-12-22</th>\n",
       "      <td>175.419998</td>\n",
       "      <td>174.500000</td>\n",
       "      <td>174.679993</td>\n",
       "      <td>175.009995</td>\n",
       "      <td>16114600.0</td>\n",
       "      <td>172.421402</td>\n",
       "    </tr>\n",
       "    <tr>\n",
       "      <th>2017-12-26</th>\n",
       "      <td>171.470001</td>\n",
       "      <td>169.679993</td>\n",
       "      <td>170.800003</td>\n",
       "      <td>170.570007</td>\n",
       "      <td>33185500.0</td>\n",
       "      <td>168.047089</td>\n",
       "    </tr>\n",
       "    <tr>\n",
       "      <th>2017-12-27</th>\n",
       "      <td>170.779999</td>\n",
       "      <td>169.710007</td>\n",
       "      <td>170.100006</td>\n",
       "      <td>170.600006</td>\n",
       "      <td>21498200.0</td>\n",
       "      <td>168.076645</td>\n",
       "    </tr>\n",
       "    <tr>\n",
       "      <th>2017-12-28</th>\n",
       "      <td>171.850006</td>\n",
       "      <td>170.479996</td>\n",
       "      <td>171.000000</td>\n",
       "      <td>171.080002</td>\n",
       "      <td>16480200.0</td>\n",
       "      <td>168.549545</td>\n",
       "    </tr>\n",
       "    <tr>\n",
       "      <th>2017-12-29</th>\n",
       "      <td>170.589996</td>\n",
       "      <td>169.220001</td>\n",
       "      <td>170.520004</td>\n",
       "      <td>169.229996</td>\n",
       "      <td>25884400.0</td>\n",
       "      <td>166.726913</td>\n",
       "    </tr>\n",
       "    <tr>\n",
       "      <th>2018-01-02</th>\n",
       "      <td>172.300003</td>\n",
       "      <td>169.259995</td>\n",
       "      <td>170.160004</td>\n",
       "      <td>172.259995</td>\n",
       "      <td>25555900.0</td>\n",
       "      <td>169.712067</td>\n",
       "    </tr>\n",
       "    <tr>\n",
       "      <th>2018-01-03</th>\n",
       "      <td>174.550003</td>\n",
       "      <td>171.960007</td>\n",
       "      <td>172.529999</td>\n",
       "      <td>172.229996</td>\n",
       "      <td>29517900.0</td>\n",
       "      <td>169.682510</td>\n",
       "    </tr>\n",
       "    <tr>\n",
       "      <th>2018-01-04</th>\n",
       "      <td>173.470001</td>\n",
       "      <td>172.080002</td>\n",
       "      <td>172.539993</td>\n",
       "      <td>173.029999</td>\n",
       "      <td>22434600.0</td>\n",
       "      <td>170.470703</td>\n",
       "    </tr>\n",
       "    <tr>\n",
       "      <th>2018-01-05</th>\n",
       "      <td>175.369995</td>\n",
       "      <td>173.050003</td>\n",
       "      <td>173.440002</td>\n",
       "      <td>175.000000</td>\n",
       "      <td>23660000.0</td>\n",
       "      <td>172.411560</td>\n",
       "    </tr>\n",
       "    <tr>\n",
       "      <th>2018-01-08</th>\n",
       "      <td>175.610001</td>\n",
       "      <td>173.929993</td>\n",
       "      <td>174.350006</td>\n",
       "      <td>174.350006</td>\n",
       "      <td>20567800.0</td>\n",
       "      <td>171.771179</td>\n",
       "    </tr>\n",
       "    <tr>\n",
       "      <th>...</th>\n",
       "      <td>...</td>\n",
       "      <td>...</td>\n",
       "      <td>...</td>\n",
       "      <td>...</td>\n",
       "      <td>...</td>\n",
       "      <td>...</td>\n",
       "    </tr>\n",
       "    <tr>\n",
       "      <th>2018-10-12</th>\n",
       "      <td>222.880005</td>\n",
       "      <td>216.839996</td>\n",
       "      <td>220.419998</td>\n",
       "      <td>222.110001</td>\n",
       "      <td>40337900.0</td>\n",
       "      <td>221.337723</td>\n",
       "    </tr>\n",
       "    <tr>\n",
       "      <th>2018-10-15</th>\n",
       "      <td>221.830002</td>\n",
       "      <td>217.270004</td>\n",
       "      <td>221.160004</td>\n",
       "      <td>217.360001</td>\n",
       "      <td>30791000.0</td>\n",
       "      <td>216.604233</td>\n",
       "    </tr>\n",
       "    <tr>\n",
       "      <th>2018-10-16</th>\n",
       "      <td>222.990005</td>\n",
       "      <td>216.759995</td>\n",
       "      <td>218.929993</td>\n",
       "      <td>222.149994</td>\n",
       "      <td>29184000.0</td>\n",
       "      <td>221.377563</td>\n",
       "    </tr>\n",
       "    <tr>\n",
       "      <th>2018-10-17</th>\n",
       "      <td>222.639999</td>\n",
       "      <td>219.339996</td>\n",
       "      <td>222.300003</td>\n",
       "      <td>221.190002</td>\n",
       "      <td>22885400.0</td>\n",
       "      <td>220.420914</td>\n",
       "    </tr>\n",
       "    <tr>\n",
       "      <th>2018-10-18</th>\n",
       "      <td>219.740005</td>\n",
       "      <td>213.000000</td>\n",
       "      <td>217.860001</td>\n",
       "      <td>216.020004</td>\n",
       "      <td>32581300.0</td>\n",
       "      <td>215.268890</td>\n",
       "    </tr>\n",
       "    <tr>\n",
       "      <th>2018-10-19</th>\n",
       "      <td>221.259995</td>\n",
       "      <td>217.429993</td>\n",
       "      <td>218.059998</td>\n",
       "      <td>219.309998</td>\n",
       "      <td>33078700.0</td>\n",
       "      <td>218.547455</td>\n",
       "    </tr>\n",
       "    <tr>\n",
       "      <th>2018-10-22</th>\n",
       "      <td>223.360001</td>\n",
       "      <td>218.940002</td>\n",
       "      <td>219.789993</td>\n",
       "      <td>220.649994</td>\n",
       "      <td>28792100.0</td>\n",
       "      <td>219.882782</td>\n",
       "    </tr>\n",
       "    <tr>\n",
       "      <th>2018-10-23</th>\n",
       "      <td>223.250000</td>\n",
       "      <td>214.699997</td>\n",
       "      <td>215.830002</td>\n",
       "      <td>222.729996</td>\n",
       "      <td>38767800.0</td>\n",
       "      <td>221.955551</td>\n",
       "    </tr>\n",
       "    <tr>\n",
       "      <th>2018-10-24</th>\n",
       "      <td>224.229996</td>\n",
       "      <td>214.539993</td>\n",
       "      <td>222.600006</td>\n",
       "      <td>215.089996</td>\n",
       "      <td>40925500.0</td>\n",
       "      <td>214.342117</td>\n",
       "    </tr>\n",
       "    <tr>\n",
       "      <th>2018-10-25</th>\n",
       "      <td>221.380005</td>\n",
       "      <td>216.750000</td>\n",
       "      <td>217.710007</td>\n",
       "      <td>219.800003</td>\n",
       "      <td>29855800.0</td>\n",
       "      <td>219.035751</td>\n",
       "    </tr>\n",
       "    <tr>\n",
       "      <th>2018-10-26</th>\n",
       "      <td>220.190002</td>\n",
       "      <td>212.669998</td>\n",
       "      <td>215.899994</td>\n",
       "      <td>216.300003</td>\n",
       "      <td>47258400.0</td>\n",
       "      <td>215.547913</td>\n",
       "    </tr>\n",
       "    <tr>\n",
       "      <th>2018-10-29</th>\n",
       "      <td>219.690002</td>\n",
       "      <td>206.089996</td>\n",
       "      <td>219.190002</td>\n",
       "      <td>212.240005</td>\n",
       "      <td>45935500.0</td>\n",
       "      <td>211.502045</td>\n",
       "    </tr>\n",
       "    <tr>\n",
       "      <th>2018-10-30</th>\n",
       "      <td>215.179993</td>\n",
       "      <td>209.270004</td>\n",
       "      <td>211.149994</td>\n",
       "      <td>213.300003</td>\n",
       "      <td>36660000.0</td>\n",
       "      <td>212.558350</td>\n",
       "    </tr>\n",
       "    <tr>\n",
       "      <th>2018-10-31</th>\n",
       "      <td>220.449997</td>\n",
       "      <td>216.619995</td>\n",
       "      <td>216.880005</td>\n",
       "      <td>218.860001</td>\n",
       "      <td>38358900.0</td>\n",
       "      <td>218.099014</td>\n",
       "    </tr>\n",
       "    <tr>\n",
       "      <th>2018-11-01</th>\n",
       "      <td>222.360001</td>\n",
       "      <td>216.809998</td>\n",
       "      <td>219.050003</td>\n",
       "      <td>222.220001</td>\n",
       "      <td>58323200.0</td>\n",
       "      <td>221.447327</td>\n",
       "    </tr>\n",
       "    <tr>\n",
       "      <th>2018-11-02</th>\n",
       "      <td>213.649994</td>\n",
       "      <td>205.429993</td>\n",
       "      <td>209.550003</td>\n",
       "      <td>207.479996</td>\n",
       "      <td>91328700.0</td>\n",
       "      <td>206.758575</td>\n",
       "    </tr>\n",
       "    <tr>\n",
       "      <th>2018-11-05</th>\n",
       "      <td>204.389999</td>\n",
       "      <td>198.169998</td>\n",
       "      <td>204.300003</td>\n",
       "      <td>201.589996</td>\n",
       "      <td>66163700.0</td>\n",
       "      <td>200.889053</td>\n",
       "    </tr>\n",
       "    <tr>\n",
       "      <th>2018-11-06</th>\n",
       "      <td>204.720001</td>\n",
       "      <td>201.690002</td>\n",
       "      <td>201.919998</td>\n",
       "      <td>203.770004</td>\n",
       "      <td>31882900.0</td>\n",
       "      <td>203.061493</td>\n",
       "    </tr>\n",
       "    <tr>\n",
       "      <th>2018-11-07</th>\n",
       "      <td>210.059998</td>\n",
       "      <td>204.130005</td>\n",
       "      <td>205.970001</td>\n",
       "      <td>209.949997</td>\n",
       "      <td>33424400.0</td>\n",
       "      <td>209.219986</td>\n",
       "    </tr>\n",
       "    <tr>\n",
       "      <th>2018-11-08</th>\n",
       "      <td>210.119995</td>\n",
       "      <td>206.750000</td>\n",
       "      <td>209.979996</td>\n",
       "      <td>208.490005</td>\n",
       "      <td>25362600.0</td>\n",
       "      <td>208.490005</td>\n",
       "    </tr>\n",
       "    <tr>\n",
       "      <th>2018-11-09</th>\n",
       "      <td>206.009995</td>\n",
       "      <td>202.250000</td>\n",
       "      <td>205.550003</td>\n",
       "      <td>204.470001</td>\n",
       "      <td>34365800.0</td>\n",
       "      <td>204.470001</td>\n",
       "    </tr>\n",
       "    <tr>\n",
       "      <th>2018-11-12</th>\n",
       "      <td>199.850006</td>\n",
       "      <td>193.789993</td>\n",
       "      <td>199.000000</td>\n",
       "      <td>194.169998</td>\n",
       "      <td>51135500.0</td>\n",
       "      <td>194.169998</td>\n",
       "    </tr>\n",
       "    <tr>\n",
       "      <th>2018-11-13</th>\n",
       "      <td>197.179993</td>\n",
       "      <td>191.449997</td>\n",
       "      <td>191.630005</td>\n",
       "      <td>192.229996</td>\n",
       "      <td>46882900.0</td>\n",
       "      <td>192.229996</td>\n",
       "    </tr>\n",
       "    <tr>\n",
       "      <th>2018-11-14</th>\n",
       "      <td>194.479996</td>\n",
       "      <td>185.929993</td>\n",
       "      <td>193.899994</td>\n",
       "      <td>186.800003</td>\n",
       "      <td>60801000.0</td>\n",
       "      <td>186.800003</td>\n",
       "    </tr>\n",
       "    <tr>\n",
       "      <th>2018-11-15</th>\n",
       "      <td>191.970001</td>\n",
       "      <td>186.899994</td>\n",
       "      <td>188.389999</td>\n",
       "      <td>191.410004</td>\n",
       "      <td>46478800.0</td>\n",
       "      <td>191.410004</td>\n",
       "    </tr>\n",
       "    <tr>\n",
       "      <th>2018-11-16</th>\n",
       "      <td>194.970001</td>\n",
       "      <td>189.460007</td>\n",
       "      <td>190.500000</td>\n",
       "      <td>193.529999</td>\n",
       "      <td>36928300.0</td>\n",
       "      <td>193.529999</td>\n",
       "    </tr>\n",
       "    <tr>\n",
       "      <th>2018-11-19</th>\n",
       "      <td>190.699997</td>\n",
       "      <td>184.990005</td>\n",
       "      <td>190.000000</td>\n",
       "      <td>185.860001</td>\n",
       "      <td>41925300.0</td>\n",
       "      <td>185.860001</td>\n",
       "    </tr>\n",
       "    <tr>\n",
       "      <th>2018-11-20</th>\n",
       "      <td>181.470001</td>\n",
       "      <td>175.509995</td>\n",
       "      <td>178.369995</td>\n",
       "      <td>176.979996</td>\n",
       "      <td>67825200.0</td>\n",
       "      <td>176.979996</td>\n",
       "    </tr>\n",
       "    <tr>\n",
       "      <th>2018-11-21</th>\n",
       "      <td>180.270004</td>\n",
       "      <td>176.550003</td>\n",
       "      <td>179.729996</td>\n",
       "      <td>176.779999</td>\n",
       "      <td>31124200.0</td>\n",
       "      <td>176.779999</td>\n",
       "    </tr>\n",
       "    <tr>\n",
       "      <th>2018-11-23</th>\n",
       "      <td>176.600006</td>\n",
       "      <td>172.100006</td>\n",
       "      <td>174.940002</td>\n",
       "      <td>172.289993</td>\n",
       "      <td>23624000.0</td>\n",
       "      <td>172.289993</td>\n",
       "    </tr>\n",
       "  </tbody>\n",
       "</table>\n",
       "<p>252 rows × 6 columns</p>\n",
       "</div>"
      ],
      "text/plain": [
       "                  High         Low        Open       Close      Volume  \\\n",
       "Date                                                                     \n",
       "2017-11-24  175.500000  174.649994  175.100006  174.970001  14026700.0   \n",
       "2017-11-27  175.080002  173.339996  175.050003  174.089996  20716800.0   \n",
       "2017-11-28  174.869995  171.860001  174.300003  173.070007  26428800.0   \n",
       "2017-11-29  172.919998  167.160004  172.630005  169.479996  41666400.0   \n",
       "2017-11-30  172.139999  168.440002  170.429993  171.850006  41527200.0   \n",
       "2017-12-01  171.669998  168.500000  169.949997  171.050003  39759300.0   \n",
       "2017-12-04  172.619995  169.630005  172.479996  169.800003  32542400.0   \n",
       "2017-12-05  171.520004  168.399994  169.059998  169.639999  27350200.0   \n",
       "2017-12-06  170.199997  166.460007  167.500000  169.009995  28560000.0   \n",
       "2017-12-07  170.440002  168.910004  169.029999  169.320007  25673300.0   \n",
       "2017-12-08  171.000000  168.820007  170.490005  169.369995  23355200.0   \n",
       "2017-12-11  172.889999  168.789993  169.199997  172.669998  35273800.0   \n",
       "2017-12-12  172.389999  171.460007  172.149994  171.699997  19409200.0   \n",
       "2017-12-13  173.539993  172.000000  172.500000  172.270004  23818400.0   \n",
       "2017-12-14  173.130005  171.649994  172.399994  172.220001  20476500.0   \n",
       "2017-12-15  174.169998  172.460007  173.630005  173.970001  40169300.0   \n",
       "2017-12-18  177.199997  174.860001  174.880005  176.419998  29421100.0   \n",
       "2017-12-19  175.389999  174.089996  175.029999  174.539993  27436400.0   \n",
       "2017-12-20  175.419998  173.250000  174.869995  174.350006  23475600.0   \n",
       "2017-12-21  176.020004  174.100006  174.169998  175.009995  20949900.0   \n",
       "2017-12-22  175.419998  174.500000  174.679993  175.009995  16114600.0   \n",
       "2017-12-26  171.470001  169.679993  170.800003  170.570007  33185500.0   \n",
       "2017-12-27  170.779999  169.710007  170.100006  170.600006  21498200.0   \n",
       "2017-12-28  171.850006  170.479996  171.000000  171.080002  16480200.0   \n",
       "2017-12-29  170.589996  169.220001  170.520004  169.229996  25884400.0   \n",
       "2018-01-02  172.300003  169.259995  170.160004  172.259995  25555900.0   \n",
       "2018-01-03  174.550003  171.960007  172.529999  172.229996  29517900.0   \n",
       "2018-01-04  173.470001  172.080002  172.539993  173.029999  22434600.0   \n",
       "2018-01-05  175.369995  173.050003  173.440002  175.000000  23660000.0   \n",
       "2018-01-08  175.610001  173.929993  174.350006  174.350006  20567800.0   \n",
       "...                ...         ...         ...         ...         ...   \n",
       "2018-10-12  222.880005  216.839996  220.419998  222.110001  40337900.0   \n",
       "2018-10-15  221.830002  217.270004  221.160004  217.360001  30791000.0   \n",
       "2018-10-16  222.990005  216.759995  218.929993  222.149994  29184000.0   \n",
       "2018-10-17  222.639999  219.339996  222.300003  221.190002  22885400.0   \n",
       "2018-10-18  219.740005  213.000000  217.860001  216.020004  32581300.0   \n",
       "2018-10-19  221.259995  217.429993  218.059998  219.309998  33078700.0   \n",
       "2018-10-22  223.360001  218.940002  219.789993  220.649994  28792100.0   \n",
       "2018-10-23  223.250000  214.699997  215.830002  222.729996  38767800.0   \n",
       "2018-10-24  224.229996  214.539993  222.600006  215.089996  40925500.0   \n",
       "2018-10-25  221.380005  216.750000  217.710007  219.800003  29855800.0   \n",
       "2018-10-26  220.190002  212.669998  215.899994  216.300003  47258400.0   \n",
       "2018-10-29  219.690002  206.089996  219.190002  212.240005  45935500.0   \n",
       "2018-10-30  215.179993  209.270004  211.149994  213.300003  36660000.0   \n",
       "2018-10-31  220.449997  216.619995  216.880005  218.860001  38358900.0   \n",
       "2018-11-01  222.360001  216.809998  219.050003  222.220001  58323200.0   \n",
       "2018-11-02  213.649994  205.429993  209.550003  207.479996  91328700.0   \n",
       "2018-11-05  204.389999  198.169998  204.300003  201.589996  66163700.0   \n",
       "2018-11-06  204.720001  201.690002  201.919998  203.770004  31882900.0   \n",
       "2018-11-07  210.059998  204.130005  205.970001  209.949997  33424400.0   \n",
       "2018-11-08  210.119995  206.750000  209.979996  208.490005  25362600.0   \n",
       "2018-11-09  206.009995  202.250000  205.550003  204.470001  34365800.0   \n",
       "2018-11-12  199.850006  193.789993  199.000000  194.169998  51135500.0   \n",
       "2018-11-13  197.179993  191.449997  191.630005  192.229996  46882900.0   \n",
       "2018-11-14  194.479996  185.929993  193.899994  186.800003  60801000.0   \n",
       "2018-11-15  191.970001  186.899994  188.389999  191.410004  46478800.0   \n",
       "2018-11-16  194.970001  189.460007  190.500000  193.529999  36928300.0   \n",
       "2018-11-19  190.699997  184.990005  190.000000  185.860001  41925300.0   \n",
       "2018-11-20  181.470001  175.509995  178.369995  176.979996  67825200.0   \n",
       "2018-11-21  180.270004  176.550003  179.729996  176.779999  31124200.0   \n",
       "2018-11-23  176.600006  172.100006  174.940002  172.289993  23624000.0   \n",
       "\n",
       "             Adj Close  \n",
       "Date                    \n",
       "2017-11-24  172.382004  \n",
       "2017-11-27  171.514999  \n",
       "2017-11-28  170.510101  \n",
       "2017-11-29  166.973206  \n",
       "2017-11-30  169.308151  \n",
       "2017-12-01  168.519974  \n",
       "2017-12-04  167.288483  \n",
       "2017-12-05  167.130829  \n",
       "2017-12-06  166.510162  \n",
       "2017-12-07  166.815567  \n",
       "2017-12-08  166.864822  \n",
       "2017-12-11  170.116028  \n",
       "2017-12-12  169.160370  \n",
       "2017-12-13  169.721939  \n",
       "2017-12-14  169.672668  \n",
       "2017-12-15  171.396790  \n",
       "2017-12-18  173.810547  \n",
       "2017-12-19  171.958359  \n",
       "2017-12-20  171.771179  \n",
       "2017-12-21  172.421402  \n",
       "2017-12-22  172.421402  \n",
       "2017-12-26  168.047089  \n",
       "2017-12-27  168.076645  \n",
       "2017-12-28  168.549545  \n",
       "2017-12-29  166.726913  \n",
       "2018-01-02  169.712067  \n",
       "2018-01-03  169.682510  \n",
       "2018-01-04  170.470703  \n",
       "2018-01-05  172.411560  \n",
       "2018-01-08  171.771179  \n",
       "...                ...  \n",
       "2018-10-12  221.337723  \n",
       "2018-10-15  216.604233  \n",
       "2018-10-16  221.377563  \n",
       "2018-10-17  220.420914  \n",
       "2018-10-18  215.268890  \n",
       "2018-10-19  218.547455  \n",
       "2018-10-22  219.882782  \n",
       "2018-10-23  221.955551  \n",
       "2018-10-24  214.342117  \n",
       "2018-10-25  219.035751  \n",
       "2018-10-26  215.547913  \n",
       "2018-10-29  211.502045  \n",
       "2018-10-30  212.558350  \n",
       "2018-10-31  218.099014  \n",
       "2018-11-01  221.447327  \n",
       "2018-11-02  206.758575  \n",
       "2018-11-05  200.889053  \n",
       "2018-11-06  203.061493  \n",
       "2018-11-07  209.219986  \n",
       "2018-11-08  208.490005  \n",
       "2018-11-09  204.470001  \n",
       "2018-11-12  194.169998  \n",
       "2018-11-13  192.229996  \n",
       "2018-11-14  186.800003  \n",
       "2018-11-15  191.410004  \n",
       "2018-11-16  193.529999  \n",
       "2018-11-19  185.860001  \n",
       "2018-11-20  176.979996  \n",
       "2018-11-21  176.779999  \n",
       "2018-11-23  172.289993  \n",
       "\n",
       "[252 rows x 6 columns]"
      ]
     },
     "execution_count": 12,
     "metadata": {},
     "output_type": "execute_result"
    }
   ],
   "source": [
    "# Summary Stats\n",
    "AAPL"
   ]
  },
  {
   "cell_type": "code",
   "execution_count": 10,
   "metadata": {},
   "outputs": [
    {
     "name": "stdout",
     "output_type": "stream",
     "text": [
      "<class 'pandas.core.frame.DataFrame'>\n",
      "DatetimeIndex: 252 entries, 2017-11-24 to 2018-11-23\n",
      "Data columns (total 6 columns):\n",
      "High         252 non-null float64\n",
      "Low          252 non-null float64\n",
      "Open         252 non-null float64\n",
      "Close        252 non-null float64\n",
      "Volume       252 non-null float64\n",
      "Adj Close    252 non-null float64\n",
      "dtypes: float64(6)\n",
      "memory usage: 13.8 KB\n"
     ]
    }
   ],
   "source": [
    "# General Info\n",
    "AAPL.info()"
   ]
  },
  {
   "cell_type": "markdown",
   "metadata": {},
   "source": [
    "Now that we've seen the DataFrame, let's go ahead and plot out the volume and closing price of the stocks"
   ]
  },
  {
   "cell_type": "code",
   "execution_count": 11,
   "metadata": {},
   "outputs": [
    {
     "data": {
      "text/plain": [
       "<matplotlib.axes._subplots.AxesSubplot at 0x23593e28c50>"
      ]
     },
     "execution_count": 11,
     "metadata": {},
     "output_type": "execute_result"
    },
    {
     "data": {
      "image/png": "[encoded data removed]",
      "text/plain": [
       "<Figure size 720x288 with 1 Axes>"
      ]
     },
     "metadata": {
      "needs_background": "light"
     },
     "output_type": "display_data"
    }
   ],
   "source": [
    "# Let's see a historical view of the closing price\n",
    "AAPL['Adj Close'].plot(legend=True,figsize=(10,4))"
   ]
  },
  {
   "cell_type": "code",
   "execution_count": null,
   "metadata": {},
   "outputs": [],
   "source": [
    "# Now let's plot the total volume of stock being traded each day over the past 5 years\n",
    "AAPL['Volume'].plot(legend=True,figsize=(10,4))"
   ]
  },
  {
   "cell_type": "markdown",
   "metadata": {},
   "source": [
    "Now that we've seen the visualizations for the closing price and the volume traded each day, let's go ahead and caculate the moving average for the stock."
   ]
  },
  {
   "cell_type": "markdown",
   "metadata": {},
   "source": [
    "For more info on the moving average check out the following links:\n",
    "\n",
    "1.) http://www.investopedia.com/terms/m/movingaverage.asp\n",
    "\n",
    "2.) http://www.investopedia.com/articles/active-trading/052014/how-use-moving-average-buy-stocks.asp"
   ]
  },
  {
   "cell_type": "code",
   "execution_count": null,
   "metadata": {},
   "outputs": [],
   "source": [
    "# Luckily pandas has a built-in rolling mean calculator\n",
    "\n",
    "# Let's go ahead and plot out several moving averages\n",
    "ma_day = [10,20,50]\n",
    "\n",
    "for ma in ma_day:\n",
    "    column_name = \"MA for %s days\" %(str(ma))\n",
    "    AAPL[column_name]=pd.rolling_mean(AAPL['Adj Close'],ma)"
   ]
  },
  {
   "cell_type": "markdown",
   "metadata": {},
   "source": [
    "Now let's go ahead and plot all the additional Moving Averages"
   ]
  },
  {
   "cell_type": "code",
   "execution_count": null,
   "metadata": {},
   "outputs": [],
   "source": [
    "AAPL[['Adj Close','MA for 10 days','MA for 20 days','MA for 50 days']].plot(subplots=False,figsize=(10,4))"
   ]
  },
  {
   "cell_type": "markdown",
   "metadata": {},
   "source": [
    "#### Section 2 - Daily Return Analysis"
   ]
  },
  {
   "cell_type": "markdown",
   "metadata": {},
   "source": [
    "Now that we've done some baseline analysis, let's go ahead and dive a little deeper. We're now going to analyze the risk of the stock. In order to do so we'll need to take a closer look at the daily changes of the stock, and not just its absolute value. Let's go ahead and use pandas to retrieve teh daily returns for the Apple stock."
   ]
  },
  {
   "cell_type": "code",
   "execution_count": null,
   "metadata": {},
   "outputs": [],
   "source": [
    "# We'll use pct_change to find the percent change for each day\n",
    "AAPL['Daily Return'] = AAPL['Adj Close'].pct_change()\n",
    "# Then we'll plot the daily return percentage\n",
    "AAPL['Daily Return'].plot(figsize=(12,4),legend=True,linestyle='--',marker='o')"
   ]
  },
  {
   "cell_type": "markdown",
   "metadata": {},
   "source": [
    "Great, now let's get an overall look at the average daily return using a histogram. We'll use seaborn to create both a histogram and kde plot on the same figure."
   ]
  },
  {
   "cell_type": "code",
   "execution_count": null,
   "metadata": {},
   "outputs": [],
   "source": [
    "# Note the use of dropna() here, otherwise the NaN values can't be read by seaborn\n",
    "sns.distplot(AAPL['Daily Return'].dropna(),bins=100,color='purple')\n",
    "\n",
    "# Could have also done:\n",
    "#AAPL['Daily Return'].hist()"
   ]
  },
  {
   "cell_type": "markdown",
   "metadata": {},
   "source": [
    "Now what if we wanted to analyze the returns of all the stocks in our list? Let's go ahead and build a DataFrame with all the ['Close'] columns for each of the stocks dataframes."
   ]
  },
  {
   "cell_type": "code",
   "execution_count": null,
   "metadata": {},
   "outputs": [],
   "source": [
    "# Grab all the closing prices for the tech stock list into one DataFrame\n",
    "closing_df = DataReader(['AAPL','GOOG','MSFT','AMZN'],'yahoo',start,end)['Adj Close']"
   ]
  },
  {
   "cell_type": "code",
   "execution_count": null,
   "metadata": {},
   "outputs": [],
   "source": [
    "# Let's take a quick look\n",
    "closing_df.head()"
   ]
  },
  {
   "cell_type": "markdown",
   "metadata": {},
   "source": [
    "Now that we have all the closing prices, let's go ahead and get the daily return for all the stocks, like we did for the Apple stock."
   ]
  },
  {
   "cell_type": "code",
   "execution_count": null,
   "metadata": {},
   "outputs": [],
   "source": [
    "# Make a new tech returns DataFrame\n",
    "tech_rets = closing_df.pct_change()"
   ]
  },
  {
   "cell_type": "markdown",
   "metadata": {},
   "source": [
    "Now we can compare the daily percentage return of two stocks to check how correlated. First let's see a sotck compared to itself."
   ]
  },
  {
   "cell_type": "code",
   "execution_count": null,
   "metadata": {},
   "outputs": [],
   "source": [
    "# Comparing Google to itself should show a perfectly linear relationship\n",
    "sns.jointplot('GOOG','GOOG',tech_rets,kind='scatter',color='seagreen')"
   ]
  },
  {
   "cell_type": "markdown",
   "metadata": {},
   "source": [
    "So now we can see that if two stocks are perfectly (and positivley) correlated with each other a linear relationship bewteen its daily return values should occur. So let's go ahead and compare Google and Microsoft the same way."
   ]
  },
  {
   "cell_type": "code",
   "execution_count": null,
   "metadata": {},
   "outputs": [],
   "source": [
    "# We'll use joinplot to compare the daily returns of Google and Microsoft\n",
    "sns.jointplot('GOOG','MSFT',tech_rets,kind='scatter')"
   ]
  },
  {
   "cell_type": "markdown",
   "metadata": {},
   "source": [
    "Intersting, the pearsonr value (officially known as the Pearson product-moment correlation coefficient) can give you a sense of how correlated the daily percentage returns are. You can find more information about it at this link:\n",
    "\n",
    "url - http://en.wikipedia.org/wiki/Pearson_product-moment_correlation_coefficient\n",
    "\n",
    "But for a quick intuitive sense, check out the picture below."
   ]
  },
  {
   "cell_type": "code",
   "execution_count": null,
   "metadata": {},
   "outputs": [],
   "source": [
    "from IPython.display import SVG\n",
    "SVG(url='http://upload.wikimedia.org/wikipedia/commons/d/d4/Correlation_examples2.svg')"
   ]
  },
  {
   "cell_type": "markdown",
   "metadata": {},
   "source": [
    "Seaborn and pandas make it very easy to repeat this comparison analysis for every possible combination of stocks in our technology stock ticker list. We can use sns.pairplot() to automatically create this plot"
   ]
  },
  {
   "cell_type": "code",
   "execution_count": null,
   "metadata": {},
   "outputs": [],
   "source": [
    "# We can simply call pairplot on our DataFrame for an automatic visual analysis of all the comparisons\n",
    "sns.pairplot(tech_rets.dropna())"
   ]
  },
  {
   "cell_type": "markdown",
   "metadata": {},
   "source": [
    "Above we can see all the relationships on daily returns between all the stocks. A quick glance shows an interesting correlation between Google and Amazon daily returns. It might be interesting to investigate that individual comaprison. While the simplicity of just calling sns.pairplot() is fantastic we can also use sns.PairGrid() for full control of the figure, including what kind of plots go in the diagonal, the upper triangle, and the lower triangle. Below is an example of utilizing the full power of seaborn to achieve this result."
   ]
  },
  {
   "cell_type": "code",
   "execution_count": null,
   "metadata": {},
   "outputs": [],
   "source": [
    "# Set up our figure by naming it returns_fig, call PairPLot on the DataFrame\n",
    "returns_fig = sns.PairGrid(tech_rets.dropna())\n",
    "\n",
    "# Using map_upper we can specify what the upper triangle will look like.\n",
    "returns_fig.map_upper(plt.scatter,color='purple')\n",
    "\n",
    "# We can also define the lower triangle in the figure, inclufing the plot type (kde) or the color map (BluePurple)\n",
    "returns_fig.map_lower(sns.kdeplot,cmap='cool_d')\n",
    "\n",
    "# Finally we'll define the diagonal as a series of histogram plots of the daily return\n",
    "returns_fig.map_diag(plt.hist,bins=30)"
   ]
  },
  {
   "cell_type": "markdown",
   "metadata": {},
   "source": [
    "We could have also analyzed the correlation of the closing prices using this exact same technique. Here it is shown, the code repeated from above with the exception of the DataFrame called."
   ]
  },
  {
   "cell_type": "code",
   "execution_count": null,
   "metadata": {
    "scrolled": false
   },
   "outputs": [],
   "source": [
    "# Set up our figure by naming it returns_fig, call PairPLot on the DataFrame\n",
    "returns_fig = sns.PairGrid(closing_df)\n",
    "\n",
    "# Using map_upper we can specify what the upper triangle will look like.\n",
    "returns_fig.map_upper(plt.scatter,color='purple')\n",
    "\n",
    "# We can also define the lower triangle in the figure, inclufing the plot type (kde) or the color map (BluePurple)\n",
    "returns_fig.map_lower(sns.kdeplot,cmap='cool_d')\n",
    "\n",
    "# Finally we'll define the diagonal as a series of histogram plots of the closing price\n",
    "returns_fig.map_diag(plt.hist,bins=30)"
   ]
  },
  {
   "cell_type": "markdown",
   "metadata": {},
   "source": [
    "Finally, we could also do a correlation plot, to get actual numerical values for the correlation between the stocks' daily return values. By comparing the closing prices, we see an interesting relationship between Microsoft and Apple."
   ]
  },
  {
   "cell_type": "code",
   "execution_count": null,
   "metadata": {},
   "outputs": [],
   "source": [
    "# Let's go ahead and use sebron for a quick correlation plot for the daily returns\n",
    "sns.corrplot(tech_rets.dropna(),annot=True)"
   ]
  },
  {
   "cell_type": "markdown",
   "metadata": {},
   "source": [
    "Fantastic! Just like we suspected in our PairPlot we see here numerically and visually that Amazon and Google had the strongest correlation of daily stock return. It's also interesting to see that all the technology comapnies are positively correlated."
   ]
  },
  {
   "cell_type": "markdown",
   "metadata": {},
   "source": [
    "Great! Now that we've done some daily return analysis, let's go ahead and start looking deeper into actual risk analysis."
   ]
  },
  {
   "cell_type": "markdown",
   "metadata": {},
   "source": [
    "#### Risk Analysis"
   ]
  },
  {
   "cell_type": "markdown",
   "metadata": {},
   "source": [
    "There are many ways we can quantify risk, one of the most basic ways using the information we've gathered on daily percentage returns is by comparing the expected return with the standard deviation of the daily returns."
   ]
  },
  {
   "cell_type": "code",
   "execution_count": null,
   "metadata": {},
   "outputs": [],
   "source": [
    "# Let's start by defining a new DataFrame as a clenaed version of the oriignal tech_rets DataFrame\n",
    "rets = tech_rets.dropna()\n",
    "\n",
    "area = np.pi*20\n",
    "\n",
    "plt.scatter(rets.mean(), rets.std(),alpha = 0.5,s =area)\n",
    "\n",
    "# Set the x and y limits of the plot (optional, remove this if you don't see anything in your plot)\n",
    "plt.ylim([0.01,0.025])\n",
    "plt.xlim([-0.003,0.004])\n",
    "\n",
    "#Set the plot axis titles\n",
    "plt.xlabel('Expected returns')\n",
    "plt.ylabel('Risk')\n",
    "\n",
    "# Label the scatter plots, for more info on how this is done, chekc out the link below\n",
    "# http://matplotlib.org/users/annotations_guide.html\n",
    "for label, x, y in zip(rets.columns, rets.mean(), rets.std()):\n",
    "    plt.annotate(\n",
    "        label, \n",
    "        xy = (x, y), xytext = (50, 50),\n",
    "        textcoords = 'offset points', ha = 'right', va = 'bottom',\n",
    "        arrowprops = dict(arrowstyle = '-', connectionstyle = 'arc3,rad=-0.3'))\n"
   ]
  },
  {
   "cell_type": "markdown",
   "metadata": {},
   "source": [
    "#### Value at Risk\n",
    "\n",
    "Let's go ahead and define a value at risk parameter for our stocks. We can treat value at risk as the amount of money we could  expect to lose (aka putting at risk) for a given confidence interval. Theres several methods we can use for estimating a value at risk. Let's go ahead and see some of them in action."
   ]
  },
  {
   "cell_type": "markdown",
   "metadata": {},
   "source": [
    "#### Value at risk using the \"bootstrap\" method\n",
    "\n",
    "For this method we will calculate the empirical quantiles from a histogram of daily returns. For more information on quantiles, check out this link: http://en.wikipedia.org/wiki/Quantile\n",
    "\n",
    "Let's go ahead and repeat the daily returns histogram for Apple stock."
   ]
  },
  {
   "cell_type": "code",
   "execution_count": null,
   "metadata": {},
   "outputs": [],
   "source": [
    "# Note the use of dropna() here, otherwise the NaN values can't be read by seaborn\n",
    "sns.distplot(AAPL['Daily Return'].dropna(),bins=100,color='purple')"
   ]
  },
  {
   "cell_type": "markdown",
   "metadata": {},
   "source": [
    "Now we can use quantile to get the risk value for the stock."
   ]
  },
  {
   "cell_type": "code",
   "execution_count": null,
   "metadata": {},
   "outputs": [],
   "source": [
    "# The 0.05 empirical quantile of daily returns\n",
    "rets['AAPL'].quantile(0.05)"
   ]
  },
  {
   "cell_type": "markdown",
   "metadata": {},
   "source": [
    "The 0.05 empirical quantile of daily returns is at -0.019. That means that with 95% confidence, our worst daily loss will not exceed 1.9%. If we have a 1 million dollar investment, our one-day 5% VaR is 0.019 * 1,000,000 = $19,000.\n",
    "\n",
    "Go ahead and repeat this for the other stocks in out portfolio, then afterwards we'll look at value at risk by implementing a Monte Carlo method."
   ]
  },
  {
   "cell_type": "markdown",
   "metadata": {},
   "source": [
    "####Value at Risk using the Monte Carlo method"
   ]
  },
  {
   "cell_type": "markdown",
   "metadata": {},
   "source": [
    "Using the Monte Carlo to run many trials with random market conditions, then we'll calculate portfolio losses for each trial. After this, we'll use the aggregation of all these simulations to establish how risky the stock is.\n",
    "\n",
    "Let's start with a brief explanation of what we're going to do:"
   ]
  },
  {
   "cell_type": "markdown",
   "metadata": {},
   "source": [
    "We will use the geometric Brownian motion (GBM), which is technically known as a Markov process. This means that the stock price follows a random walk and is consistent with (at the very least) the weak form of the efficient market hypothesis (EMH): past price information is already incorporated and the next price movement is \"conditionally independent\" of past price movements.\n",
    "\n",
    "This means that the past information on the price of a stock is independent of where the stock price will be in the future, basically meaning, you can't perfectly predict the future solely based on the previous price of a stock.\n"
   ]
  },
  {
   "cell_type": "markdown",
   "metadata": {},
   "source": [
    "The equation for geometric Browninan motion is given by the following equation:\n",
    "\n",
    "$$\\frac{\\Delta S}{S} = \\mu\\Delta t + \\sigma \\epsilon \\sqrt{\\Delta t}$$ "
   ]
  },
  {
   "cell_type": "markdown",
   "metadata": {},
   "source": [
    "Where S is the stock price, mu is the expected return (which we calculated earlier),sigma is the standard deviation of the returns, t is time, and epsilon is the random variable.\n",
    "\n",
    "We can mulitply both sides by the stock price (S) to rearrange the formula and solve for the stock price."
   ]
  },
  {
   "cell_type": "markdown",
   "metadata": {},
   "source": [
    "$$ \\Delta S = S(\\mu\\Delta t + \\sigma \\epsilon \\sqrt{\\Delta t}) $$ "
   ]
  },
  {
   "cell_type": "markdown",
   "metadata": {},
   "source": [
    "Now we see that the change in the stock price is the current stock price multiplied by two terms. The first term is known as \"drift\", which is the average daily return multiplied by the change of time. The second term is known as \"shock\", for each tiem period the stock will \"drift\" and then experience a \"shock\" which will randomly push the stock price up or down. By simulating this series of steps of drift and shock thousands of times, we can begin to do a simulation of where we might expect the stock price to be.\n",
    "\n",
    "For more info on the Monte Carlo method for stocks, check out the following link:\n",
    "http://www.investopedia.com/articles/07/montecarlo.asp\n"
   ]
  },
  {
   "cell_type": "markdown",
   "metadata": {},
   "source": [
    "To demonstrate a basic Monte Carlo method, we will start with just a few simulations. First we'll define the variables we'll be using the Google DataFrame GOOG"
   ]
  },
  {
   "cell_type": "code",
   "execution_count": null,
   "metadata": {},
   "outputs": [],
   "source": [
    "# Set up our time horizon\n",
    "days = 365\n",
    "\n",
    "# Now our delta\n",
    "dt = 1/days\n",
    "\n",
    "# Now let's grab our mu (drift) from the expected return data we got for AAPL\n",
    "mu = rets.mean()['GOOG']\n",
    "\n",
    "# Now let's grab the volatility of the stock from the std() of the average return\n",
    "sigma = rets.std()['GOOG']"
   ]
  },
  {
   "cell_type": "markdown",
   "metadata": {},
   "source": [
    "Next, we will create a function that takes in the starting price and number of days, and uses teh sigma and mu we already calculated form out daily returns"
   ]
  },
  {
   "cell_type": "code",
   "execution_count": null,
   "metadata": {},
   "outputs": [],
   "source": [
    "def stock_monte_carlo(start_price,days,mu,sigma):\n",
    "    ''' This function takes in starting stock price, days of simulation,mu,sigma, and returns simulated price array'''\n",
    "    \n",
    "    # Define a price array\n",
    "    price = np.zeros(days)\n",
    "    price[0] = start_price\n",
    "    # Schok and Drift\n",
    "    shock = np.zeros(days)\n",
    "    drift = np.zeros(days)\n",
    "    \n",
    "    # Run price array for number of days\n",
    "    for x in xrange(1,days):\n",
    "        \n",
    "        # Calculate Schock\n",
    "        shock[x] = np.random.normal(loc=mu * dt, scale=sigma * np.sqrt(dt))\n",
    "        # Calculate Drift\n",
    "        drift[x] = mu * dt\n",
    "        # Calculate Price\n",
    "        price[x] = price[x-1] + (price[x-1] * (drift[x] + shock[x]))\n",
    "        \n",
    "    return price"
   ]
  },
  {
   "cell_type": "markdown",
   "metadata": {},
   "source": [
    "Grate now let's put our function to work!"
   ]
  },
  {
   "cell_type": "code",
   "execution_count": null,
   "metadata": {},
   "outputs": [],
   "source": [
    "# Get start price from GOOG.head()\n",
    "start_price = 569.85\n",
    "\n",
    "for run in xrange(100):\n",
    "    plt.plot(stock_monte_carlo(start_price,days,mu,sigma))\n",
    "plt.xlabel(\"Days\")\n",
    "plt.ylabel(\"Price\")  \n",
    "plt.title('Monte Carlo Analysis for Google')"
   ]
  },
  {
   "cell_type": "markdown",
   "metadata": {},
   "source": [
    "Let's go ahead and get a histogram of the end results for a much larger run. (note: This could take a little while to run , depending on the number of runs chosen)"
   ]
  },
  {
   "cell_type": "code",
   "execution_count": null,
   "metadata": {},
   "outputs": [],
   "source": [
    "# Set a large numebr of runs\n",
    "runs = 10000\n",
    "\n",
    "# Create an empty matrix to hold the end price data\n",
    "simulations = np.zeros(runs)\n",
    "\n",
    "# Set the print options of numpy to only display 0-5 points from an array to suppress output\n",
    "np.set_printoptions(threshold=5)\n",
    "\n",
    "for run in xrange(runs):    \n",
    "    # Set the simulation data point as the last stock price for that run\n",
    "    simulations[run] = stock_monte_carlo(start_price,days,mu,sigma)[days-1];\n"
   ]
  },
  {
   "cell_type": "markdown",
   "metadata": {},
   "source": [
    "Now that we have our array of simulations, we can go ahead and plot a histogram ,as well as use qunatile to define our risk for this stock.\n",
    "\n",
    "For more info on quantiles, check out this link:\n",
    "http://en.wikipedia.org/wiki/Quantile"
   ]
  },
  {
   "cell_type": "code",
   "execution_count": null,
   "metadata": {},
   "outputs": [],
   "source": [
    "# Now we'lll define q as the 1% empirical qunatile, this basically means that 99% of the values should fall between here\n",
    "q = np.percentile(simulations, 1)\n",
    "    \n",
    "# Now let's plot the distribution of the end prices\n",
    "plt.hist(simulations,bins=200)\n",
    "\n",
    "# Using plt.figtext to fill in some additional information onto the plot\n",
    "\n",
    "# Starting Price\n",
    "plt.figtext(0.6, 0.8, s=\"Start price: $%.2f\" %start_price)\n",
    "# Mean ending price\n",
    "plt.figtext(0.6, 0.7, \"Mean final price: $%.2f\" % simulations.mean())\n",
    "\n",
    "# Variance of the price (within 99% confidence interval)\n",
    "plt.figtext(0.6, 0.6, \"VaR(0.99): $%.2f\" % (start_price - q,))\n",
    "\n",
    "# Display 1% quantile\n",
    "plt.figtext(0.15, 0.6, \"q(0.99): $%.2f\" % q)\n",
    "\n",
    "# Plot a line at the 1% quantile result\n",
    "plt.axvline(x=q, linewidth=4, color='r')\n",
    "\n",
    "# Title\n",
    "plt.title(u\"Final price distribution for Google Stock after %s days\" % days, weight='bold');"
   ]
  },
  {
   "cell_type": "markdown",
   "metadata": {},
   "source": [
    "Awesome! Now we have looked at the 1% empirical quantile of the final price distribution to estimate the Value at Risk for the Google stock, which looks to be $18.38 for every investment of 569.85 (the price of one inital google stock).\n",
    "\n",
    "This basically menas for every initial stock you purchase your putting about $18.38 at risk 99% of the time from our Monte Carlo Simulation."
   ]
  },
  {
   "cell_type": "markdown",
   "metadata": {},
   "source": [
    "Congrats on finishing the Stock Market Data Analysis project! Here are some additional quesitons and excercises for you to do:\n",
    "\n",
    "1.) Estimate the values at risk using both methods we learned in this project for a stock not related to technology.\n",
    "\n",
    "2.) Build a practice portfolio and see how well you can predict you risk values with real stock information!\n",
    "\n",
    "3.) Look further into correlatino of two stocks and see if that gives you any insight into future possible stock prices."
   ]
  },
  {
   "cell_type": "markdown",
   "metadata": {},
   "source": [
    "# Great job!"
   ]
  },
  {
   "cell_type": "code",
   "execution_count": null,
   "metadata": {},
   "outputs": [],
   "source": []
  }
 ],
 "metadata": {
  "kernelspec": {
   "display_name": "Python 3",
   "language": "python",
   "name": "python3"
  },
  "language_info": {
   "codemirror_mode": {
    "name": "ipython",
    "version": 3
   },
   "file_extension": ".py",
   "mimetype": "text/x-python",
   "name": "python",
   "nbconvert_exporter": "python",
   "pygments_lexer": "ipython3",
   "version": "3.6.6"
  }
 },
 "nbformat": 4,
 "nbformat_minor": 1
}
